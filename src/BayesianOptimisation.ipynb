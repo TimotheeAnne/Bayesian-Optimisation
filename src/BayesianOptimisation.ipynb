{
 "cells": [
  {
   "cell_type": "markdown",
   "metadata": {},
   "source": [
    "# Use of Bayesian Optimisation in developmental robotics with Explauto"
   ]
  },
  {
   "cell_type": "markdown",
   "metadata": {},
   "source": [
    "This tutorial explains and implements the use of Bayesian Optimisation for exploration algorithms used in developmental robotics. \n",
    "We use the [Explauto](https://github.com/flowersteam/explauto) Python library as a toolkit to help implement exploration algorithms.\n",
    "\n",
    "## Requirements:\n",
    "- Python 2.7, Numpy, Scipy >= 0.16, Scikit-learn, [Jupyter](http://jupyter.readthedocs.io/en/latest/install.html). For users not familiar with Python, installing [Anaconda](https://www.continuum.io/downloads) for Python 2.7 includes all of them.\n",
    "- [Explauto](https://github.com/flowersteam/explauto), the Python Library for Autonomous Exploration. See [installation](http://flowersteam.github.io/explauto/installation.html) section.\n",
    "-  [GPy](https://github.com/SheffieldML/GPy), The Gaussian processes framework in Python and [GPyOpt](https://github.com/SheffieldML/GPyOpt) Gaussian process optimization using GPy.\n",
    "\n",
    "You can have an issue with last version of Numpy with GPy : **ValueError: The truth value of an array with more than one element is ambiguous. Use a.any() or a.all().**\n",
    "\n",
    "In this case modify the ligne of the file *GPyOpt/core/bo.py* in _save_model_parameter_values(self) ligne 209 \"if self.model_parameters_iterations == None:\" into \"if self.model_parameters_iterations **is** None:\"."
   ]
  },
  {
   "cell_type": "markdown",
   "metadata": {},
   "source": [
    "Let's begin with the import of all the classes and functions we will need in this notebook."
   ]
  },
  {
   "cell_type": "code",
   "execution_count": 1,
   "metadata": {
    "collapsed": true
   },
   "outputs": [],
   "source": [
    "import matplotlib\n",
    "matplotlib.use('TkAgg')\n",
    "import pickle\n",
    "from utils import *\n",
    "from explauto.sensorimotor_model.bayesian_optimisation import BayesianOptimisation\n",
    "from explauto import Environment"
   ]
  },
  {
   "cell_type": "markdown",
   "metadata": {},
   "source": [
    "# SimpleArm environment\n",
    "First, we will use the SimpleArm environment using only angles to move the joints."
   ]
  },
  {
   "cell_type": "code",
   "execution_count": 2,
   "metadata": {
    "collapsed": true
   },
   "outputs": [],
   "source": [
    "# Definition of the environment\n",
    "environment = Environment.from_configuration('simple_arm', 'mid_dimensional')"
   ]
  },
  {
   "cell_type": "markdown",
   "metadata": {},
   "source": [
    "Then you need to choose the interest model."
   ]
  },
  {
   "cell_type": "code",
   "execution_count": 3,
   "metadata": {
    "collapsed": true
   },
   "outputs": [],
   "source": [
    "# Initialization of the interest model\n",
    "im_model = InterestModel.from_configuration(environment.conf, environment.conf.s_dims, 'random')"
   ]
  },
  {
   "cell_type": "markdown",
   "metadata": {},
   "source": [
    "For the sensorimotor model which use the Bayesian optimisation, you need to choose some parameters:"
   ]
  },
  {
   "cell_type": "code",
   "execution_count": 4,
   "metadata": {
    "collapsed": true
   },
   "outputs": [],
   "source": [
    "# The acquisition function for the optimisation, you can choose from LCB, MPI and EI.\n",
    "acquisition = \"LCB\"\n",
    "# The coefficient which do the trade-off between exploration and exploitation, \n",
    "# choose 0 for no exploration and 0.2 for a good trade off.\n",
    "exploration_weight = 0.2\n",
    "# Choose then number of initial points which initialize the optimisation, between 0 and 100.\n",
    "k = 50\n",
    "# Choose the number of iterations you want the optimisation doing,\n",
    "optimisation_iterations = 1\n",
    "\n",
    "''' This methode can take a lot of time (several minutes) so do not take k + optimisation_iterations > 100 '''\n",
    "\n",
    "params = {'acquisition':acquisition,\n",
    "          'exploration_weight' : exploration_weight,\n",
    "          'initial_points': k,\n",
    "          'environment' : environment,\n",
    "          'optimisation_iterations': optimisation_iterations,\n",
    "          'exact_feval' : True}\n",
    "\n",
    "sm_model = BayesianOptimisation(environment.conf, **params)"
   ]
  },
  {
   "cell_type": "markdown",
   "metadata": {},
   "source": [
    "Now, we will run the optimisation in the envrionment for multiple iterations. There are two parts, the random Babbling to assure exploration and the Bayesian optimisation. "
   ]
  },
  {
   "cell_type": "code",
   "execution_count": 5,
   "metadata": {},
   "outputs": [
    {
     "name": "stdout",
     "output_type": "stream",
     "text": [
      "Iteration: 9\n",
      "Measure of exploration: 2\n"
     ]
    },
    {
     "data": {
      "image/png": "[encoded data removed]",
      "text/plain": [
       "<matplotlib.figure.Figure at 0x7f5da1dcc490>"
      ]
     },
     "metadata": {},
     "output_type": "display_data"
    }
   ],
   "source": [
    "explored_s = []\n",
    "explored_m = []\n",
    "explorations = []\n",
    "\n",
    "# Choose the number of iterations of sampling in the environment, 100 is good for this environment.\n",
    "# It can take several minutes.\n",
    "iterations = 10\n",
    "\n",
    "%matplotlib inline\n",
    "fig, ax = plt.subplots()\n",
    "ax.set_aspect('equal')\n",
    "ax.set_xlim((-1, 1.))\n",
    "ax.set_ylim((-1., 1.))\n",
    "ax.plot(0., 0., 'sk', ms=8)\n",
    "\n",
    "# Bootstrap model: 1 random motor babbling\n",
    "m = environment.random_motors()[0]\n",
    "s = environment.update(m)\n",
    "sm_model.update(m,s)\n",
    "s_goal = im_model.sample()\n",
    "\n",
    "iteration = 0\n",
    "while len(explorations) < iterations:\n",
    "    iteration = len(explorations)\n",
    "    if (iteration) % 1 == 0:\n",
    "        clear_output(wait=True)\n",
    "        print \"Iteration:\", iteration+1\n",
    "    if random() < 0.2:\n",
    "        # Do random motor in 20% of the trials\n",
    "        m = environment.random_motors()[0]\n",
    "        s = environment.update(m)\n",
    "        sm_model.update(m, s)\n",
    "    else:\n",
    "        # Sample a sensory goal maximizing learning progress using the interest model:\n",
    "        s_goal = im_model.sample()\n",
    "        # Infer a motor command to reach that goal using the Nearest Neighbor algorithm:\n",
    "        m = sm_model.inverse_prediction(tuple(s_goal))\n",
    "        # Execute this command and observe the corresponding sensory effect:\n",
    "        s = environment.update(m)\n",
    "        # Update the sensorimotor model:\n",
    "        sm_model.update(m, s)\n",
    "        # Update the interest model:\n",
    "        im_model.update(hstack((m, s_goal)), hstack((m, s)))\n",
    "        # Update the exploration\n",
    "        explorations.append(int(compute_explo(array(explored_s), array([-1., -1.]), array([1., 1.]), gs=grid_size)))\n",
    "        # Plot the goals in red:\n",
    "        ax.plot([s_goal[0]], [s_goal[1]], 'or', alpha=0.5)\n",
    "        explored_s += [s] # store s for later evaluation\n",
    "        explored_m += [m] # store m for later ploting\n",
    "        # Plot the final sensori effect in green \n",
    "        ax.add_patch(Circle(tuple(s), 0.05, fc=\"g\", alpha=0.4))\n",
    "        # Do the treatment of the points explored during the optimisation\n",
    "        S = []\n",
    "        size = len( sm_model.dataset )\n",
    "        for index in range(size - optimisation_iterations, size):\n",
    "            S.append(sm_model.dataset.get_y(index- 1))\n",
    "        for s in S:\n",
    "            explored_s += [s] # store s for later evaluation\n",
    "            explored_m += [m] # store m for later ploting\n",
    "            ax.add_patch(Circle(tuple(s), 0.02, fc=\"b\", alpha=0.3))\n",
    "            explorations.append(int(compute_explo(array(explored_s), array([-1., -1.]), array([1., 1.]), gs=grid_size)))\n",
    "        \n",
    "explorations = explorations[:iterations]\n",
    "exploration = explorations[-1]\n",
    "print \"Measure of exploration:\", exploration"
   ]
  },
  {
   "cell_type": "markdown",
   "metadata": {},
   "source": [
    "You can see the sensorial space, in red the goals, in blue the points explored by the algorithm and in green the final answer of the optimisation to one goal. "
   ]
  },
  {
   "cell_type": "markdown",
   "metadata": {},
   "source": [
    "To plot some dimensions of the motor space."
   ]
  },
  {
   "cell_type": "code",
   "execution_count": 6,
   "metadata": {},
   "outputs": [
    {
     "data": {
      "image/png": "[encoded data removed]",
      "text/plain": [
       "<matplotlib.figure.Figure at 0x7f5da1d9f590>"
      ]
     },
     "metadata": {},
     "output_type": "display_data"
    }
   ],
   "source": [
    "plot_motor_space(explored_m)"
   ]
  },
  {
   "cell_type": "code",
   "execution_count": 6,
   "metadata": {},
   "outputs": [
    {
     "data": {
      "text/plain": [
       "<matplotlib.text.Text at 0x7f6b04125a50>"
      ]
     },
     "execution_count": 6,
     "metadata": {},
     "output_type": "execute_result"
    },
    {
     "data": {
      "image/png": "[encoded data removed]",
      "text/plain": [
       "<matplotlib.figure.Figure at 0x7f6b0b34ae90>"
      ]
     },
     "metadata": {},
     "output_type": "display_data"
    }
   ],
   "source": [
    "# Plot the exploration trough the learning\n",
    "x  = [j for j in range(len(explorations))]\n",
    "plt.plot(x, explorations,'g')\n",
    "plt.xlabel(\"number of iterations\")\n",
    "plt.title(\"exploration\")"
   ]
  },
  {
   "cell_type": "markdown",
   "metadata": {},
   "source": [
    "You can see the exploration trough the iterations, it's measured by cuting the space into cases and counting the number of cases were the ball has been moved."
   ]
  },
  {
   "cell_type": "markdown",
   "metadata": {
    "collapsed": true
   },
   "source": [
    "If you want to measure the competence gained thanks to the learning, which correspond to the distance to the goal of multiple iterations of inference. "
   ]
  },
  {
   "cell_type": "code",
   "execution_count": 8,
   "metadata": {},
   "outputs": [
    {
     "data": {
      "text/plain": [
       "{'boxes': [<matplotlib.lines.Line2D at 0x7f6b03ea2650>],\n",
       " 'caps': [<matplotlib.lines.Line2D at 0x7f6b03f11190>,\n",
       "  <matplotlib.lines.Line2D at 0x7f6b03f05310>],\n",
       " 'fliers': [<matplotlib.lines.Line2D at 0x7f6b03f72c10>],\n",
       " 'means': [],\n",
       " 'medians': [<matplotlib.lines.Line2D at 0x7f6b03efb890>],\n",
       " 'whiskers': [<matplotlib.lines.Line2D at 0x7f6b03e97f10>,\n",
       "  <matplotlib.lines.Line2D at 0x7f6b03e8d710>]}"
      ]
     },
     "execution_count": 8,
     "metadata": {},
     "output_type": "execute_result"
    },
    {
     "data": {
      "image/png": "[encoded data removed]",
      "text/plain": [
       "<matplotlib.figure.Figure at 0x7f6b04060d50>"
      ]
     },
     "metadata": {},
     "output_type": "display_data"
    }
   ],
   "source": [
    "''' Choose the models you want to test '''\n",
    "\n",
    "competence = []\n",
    "\n",
    "# Use the dataset of the learning \n",
    "dataset = sm_model.dataset\n",
    "\n",
    "# To test with the basic model which is the nearest naighbor model\n",
    "paramNN = \"NN\"\n",
    "\n",
    "# To test the Bayesian optimisation\n",
    "paramBO = {'acquisition': \"LCB\", 'exploration_weight' : 0, 'initial_points': 50,\n",
    "    'environment' : environment, 'optimisation_iterations': 1, 'exact_feval' : True}\n",
    "\n",
    "param = paramNN\n",
    "\n",
    "# Number iterations of inference\n",
    "j1 = 100\n",
    "\n",
    "# Number of inferences\n",
    "b = 20\n",
    "\n",
    "competence.append(mesure_competence(dataset,param,environment,j, b))\n",
    "\n",
    "plt.subplot(121)\n",
    "plt.ylabel(\"average distance to the goal\")\n",
    "plt.boxplot(competence)\n",
    "\n",
    "plt.subplot(122)\n",
    "plt.yscale('log')\n",
    "plt.boxplot(competence)"
   ]
  },
  {
   "cell_type": "markdown",
   "metadata": {},
   "source": [
    "You can see the boxplot of the distance to the goal the method has achieved on the data collected precedently."
   ]
  },
  {
   "cell_type": "markdown",
   "metadata": {
    "collapsed": true
   },
   "source": [
    "# ArmBall \n",
    "\n",
    "For second environment we can use the environment ArmBall which is a arm which can move a ball with its extremity. The joints use DMPs to move, so the extremity follows a trajectory."
   ]
  },
  {
   "cell_type": "code",
   "execution_count": 1,
   "metadata": {
    "collapsed": true
   },
   "outputs": [],
   "source": [
    "import matplotlib\n",
    "matplotlib.use('TkAgg')\n",
    "\n",
    "from utils import *\n",
    "from explauto.sensorimotor_model.bayesian_optimisation import BayesianOptimisation\n",
    "import pickle\n",
    "from explauto.environment import available_configurations\n",
    "from explauto import Environment\n",
    "from time import *"
   ]
  },
  {
   "cell_type": "code",
   "execution_count": 2,
   "metadata": {
    "collapsed": true
   },
   "outputs": [],
   "source": [
    "# Definition of the environment\n",
    "\n",
    "n_joints = 7      # Number of joints\n",
    "n_dmp_basis = 3   # Number of basis per joint\n",
    "goal_size = 1.    # Size of the 2D goal space\n",
    "\n",
    "environment = ArmBall(n_joints, n_dmp_basis, goal_size)"
   ]
  },
  {
   "cell_type": "code",
   "execution_count": 3,
   "metadata": {
    "collapsed": true
   },
   "outputs": [],
   "source": [
    "# Initialization of the interest model\n",
    "im_model = InterestModel.from_configuration(environment.conf, environment.conf.s_dims, 'random')"
   ]
  },
  {
   "cell_type": "code",
   "execution_count": 4,
   "metadata": {
    "collapsed": true
   },
   "outputs": [],
   "source": [
    "# The acquisition function for the optimisation, you can choose from LCB, MPI and EI.\n",
    "acquisition = \"LCB\"\n",
    "# The coefficient which do the trade-off between exploration and exploitation, \n",
    "# choose 0 for no exploration and 0.2 for a good trade off.\n",
    "exploration_weight = 0.2\n",
    "# Choose then number of initial points which initialize the optimisation, between 0 and 100.\n",
    "k = 5\n",
    "# Choose the number of iterations you want the optimisation doing,\n",
    "optimisation_iterations = 1\n",
    "\n",
    "''' This methode can take a lot of time (some hours) so do not take k + optimisation_iterations > 100 '''\n",
    "\n",
    "params = {'acquisition':acquisition,\n",
    "          'exploration_weight' : exploration_weight,\n",
    "          'initial_points': k,\n",
    "          'environment' : environment,\n",
    "          'optimisation_iterations': optimisation_iterations,\n",
    "          'exact_feval' : True}\n",
    "\n",
    "sm_model = BayesianOptimisation(environment.conf, **params)"
   ]
  },
  {
   "cell_type": "markdown",
   "metadata": {},
   "source": [
    "Now, we will run the optimisation in the envrionment for multiple iterations. There are two parts, the random Babbling to assure exploration and the Bayesian optimisation. "
   ]
  },
  {
   "cell_type": "code",
   "execution_count": 5,
   "metadata": {
    "scrolled": true
   },
   "outputs": [
    {
     "name": "stdout",
     "output_type": "stream",
     "text": [
      "Iteration: 11\n"
     ]
    },
    {
     "data": {
      "image/png": "[encoded data removed]",
      "text/plain": [
       "<matplotlib.figure.Figure at 0x7fed536fae50>"
      ]
     },
     "metadata": {},
     "output_type": "display_data"
    },
    {
     "name": "stdout",
     "output_type": "stream",
     "text": [
      "Number of ball catch: 0\n",
      "Measure of exploration: 0\n"
     ]
    }
   ],
   "source": [
    "explored_s = []\n",
    "explored_m = []\n",
    "explorations = []\n",
    "number_balls_catched = []\n",
    "\n",
    "# Choose the number of iterations of sampling in the environment, 1000 is good for this environment.\n",
    "# It can take several hours.\n",
    "iterations = 10\n",
    "\n",
    "%matplotlib inline\n",
    "fig, ax = plt.subplots()\n",
    "ax.set_aspect('equal')\n",
    "ax.set_xlim((-1, 1.))\n",
    "ax.set_ylim((-1., 1.))\n",
    "ax.plot(0., 0., 'sk', ms=8)\n",
    "\n",
    "\n",
    "# Bootstrap model: 1 random motor babbling\n",
    "m = environment.random_motors()[0]\n",
    "s = environment.update(m)\n",
    "sm_model.update(m,s)\n",
    "\n",
    "s_goal = im_model.sample()\n",
    "\n",
    "iteration = 0\n",
    "\n",
    "while iteration < iterations:\n",
    "    iteration = len(explorations)\n",
    "    if (iteration) % 1 == 0:\n",
    "        clear_output(wait=True)\n",
    "        print \"Iteration:\", iteration+1\n",
    "    if random() < 0.2:\n",
    "        # Do random motor babbling while the ball has not been grasped, and then in 20% of the trials\n",
    "        m = environment.random_motors()[0]\n",
    "        s = environment.update(m)\n",
    "        sm_model.update(m, s)\n",
    "        explored_m += [m] # store m for later ploting\n",
    "        if abs(s[-1] - 0.6) > 0.001 : # if the ball has been moved by the arm, we plot its trajectory and last position\n",
    "            explored_s += [s] # store s for later evaluation\n",
    "            ax.plot(environment.s_traj[:,0], environment.s_traj[:,1], lw=2, alpha=0.1)\n",
    "            ax.add_patch(Circle(tuple(environment.s_traj[-1,:]), 0.1, fc=\"b\", alpha=0.3))\n",
    "\n",
    "        explorations.append(int(compute_explo(array(explored_s), array([-1., -1.]), array([1., 1.]), gs=grid_size)))\n",
    "        number_balls_catched.append(len(explored_s))\n",
    "    else:\n",
    "        # Sample a sensory goal maximizing learning progress using the interest model:\n",
    "        s_goal = im_model.sample()\n",
    "        # Infer a motor command to reach that goal using the Nearest Neighbor algorithm:\n",
    "        m = sm_model.inverse_prediction(tuple(s_goal))\n",
    "        # Execute this command and observe the corresponding sensory effect:\n",
    "        s = environment.update(m)\n",
    "        # Update the sensorimotor model:\n",
    "        sm_model.update(m, s)\n",
    "        # Update the interest model:\n",
    "        im_model.update(hstack((m, s_goal)), hstack((m, s)))\n",
    "        # Plot the goals in red:\n",
    "        ax.plot([s_goal[0]], [s_goal[1]], 'or', alpha=0.3)\n",
    "\n",
    "        S = []\n",
    "        size = len( sm_model.dataset )\n",
    "        for index in range(size - optimisation_iterations, size):\n",
    "            S.append(sm_model.dataset.get_y(index-1))\n",
    "        for s in S:\n",
    "            explored_m += [m] # store m for later ploting\n",
    "            if abs(s[-1] - 0.6) > 0.001: # if the ball has been moved by the arm, we plot its trajectory and last position\n",
    "                explored_s += [s] # store s for later evaluation\n",
    "                explorations.append(int(compute_explo(array(explored_s), array([-1., -1.]), array([1., 1.]), gs=grid_size)))\n",
    "                number_balls_catched.append(len(explored_s))\n",
    "                ax.plot(environment.s_traj[:,0], environment.s_traj[:,1], lw=2, alpha=0.1)\n",
    "                ax.add_patch(Circle(tuple(environment.s_traj[-1,:]), 0.1, fc=\"b\", alpha=0.3))\n",
    "\n",
    "\n",
    "\n",
    "explorations = explorations[:iterations]\n",
    "number_balls_catched = number_balls_catched[:iterations]\n",
    "\n",
    "\n",
    "plt.xticks(linspace(-1., 1., 5))\n",
    "plt.yticks(linspace(-1., 1., 5))\n",
    "ax.set_xticklabels([])\n",
    "ax.set_yticklabels([])\n",
    "plt.grid()\n",
    "plt.ioff()\n",
    "plt.show()\n",
    "\n",
    "Nb_balls = len(explored_s)\n",
    "exploration = int(compute_explo(array(explored_s), array([-1., -1.]), array([1., 1.]), gs=grid_size))\n",
    "print \"Number of ball catch:\", Nb_balls\n",
    "print \"Measure of exploration:\", exploration"
   ]
  },
  {
   "cell_type": "markdown",
   "metadata": {},
   "source": [
    "You can see the sensorial space, in red the goals, in blue the points explored by the algorithm and in green the final answer of the optimisation to one goal. "
   ]
  },
  {
   "cell_type": "markdown",
   "metadata": {},
   "source": [
    "To plot some dimensions of the motor space."
   ]
  },
  {
   "cell_type": "code",
   "execution_count": 6,
   "metadata": {},
   "outputs": [
    {
     "data": {
      "image/png": "[encoded data removed]",
      "text/plain": [
       "<matplotlib.figure.Figure at 0x7fed536e2710>"
      ]
     },
     "metadata": {},
     "output_type": "display_data"
    }
   ],
   "source": [
    "plot_motor_space(explored_m)"
   ]
  },
  {
   "cell_type": "code",
   "execution_count": 18,
   "metadata": {},
   "outputs": [
    {
     "data": {
      "text/plain": [
       "<matplotlib.text.Text at 0x7f6b03797d90>"
      ]
     },
     "execution_count": 18,
     "metadata": {},
     "output_type": "execute_result"
    },
    {
     "data": {
      "image/png": "[encoded data removed]",
      "text/plain": [
       "<matplotlib.figure.Figure at 0x7f6b03e779d0>"
      ]
     },
     "metadata": {},
     "output_type": "display_data"
    }
   ],
   "source": [
    "# Plot the exploration trough the learning\n",
    "x  = [j for j in range(len(explorations))]\n",
    "plt.plot(x, explorations,'g')\n",
    "plt.xlabel(\"number of iterations\")\n",
    "plt.title(\"exploration\")"
   ]
  },
  {
   "cell_type": "markdown",
   "metadata": {},
   "source": [
    "You can see the exploration trough the iterations, it's measured by cuting the space into cases and counting the number of cases were the ball has been moved."
   ]
  },
  {
   "cell_type": "code",
   "execution_count": 16,
   "metadata": {},
   "outputs": [
    {
     "data": {
      "text/plain": [
       "{'boxes': [<matplotlib.lines.Line2D at 0x7f6b0397a710>],\n",
       " 'caps': [<matplotlib.lines.Line2D at 0x7f6b03985810>,\n",
       "  <matplotlib.lines.Line2D at 0x7f6b03985e50>],\n",
       " 'fliers': [<matplotlib.lines.Line2D at 0x7f6b03990b10>],\n",
       " 'means': [],\n",
       " 'medians': [<matplotlib.lines.Line2D at 0x7f6b039904d0>],\n",
       " 'whiskers': [<matplotlib.lines.Line2D at 0x7f6b0397aad0>,\n",
       "  <matplotlib.lines.Line2D at 0x7f6b039851d0>]}"
      ]
     },
     "execution_count": 16,
     "metadata": {},
     "output_type": "execute_result"
    },
    {
     "name": "stdout",
     "output_type": "stream",
     "text": [
      "\n"
     ]
    },
    {
     "data": {
      "image/png": "[encoded data removed]",
      "text/plain": [
       "<matplotlib.figure.Figure at 0x7f6b0400f550>"
      ]
     },
     "metadata": {},
     "output_type": "display_data"
    }
   ],
   "source": [
    "''' Choose the models you want to test '''\n",
    "competence = []\n",
    "\n",
    "# Use the dataset of the learning \n",
    "dataset = sm_model.dataset\n",
    "\n",
    "# To test with the basic model which is the nearest naighbor model\n",
    "paramNN = \"NN\"\n",
    "\n",
    "# To test the Bayesian optimisation\n",
    "paramBO = {'acquisition': \"LCB\", 'exploration_weight' : 0, 'initial_points': 50,\n",
    "    'environment' : environment, 'optimisation_iterations': 1, 'exact_feval' : True}\n",
    "\n",
    "param = paramNN\n",
    "\n",
    "# Number iterations of inference\n",
    "j1 = 100\n",
    "\n",
    "# Number of inferences\n",
    "b = 20\n",
    "\n",
    "competence.append(mesure_competence(dataset,param,environment,j, b))\n",
    "\n",
    "plt.subplot(121)\n",
    "plt.ylabel(\"average distance to the goal\")\n",
    "plt.boxplot(competence)\n",
    "\n",
    "plt.subplot(122)\n",
    "plt.yscale('log')\n",
    "plt.boxplot(competence)"
   ]
  },
  {
   "cell_type": "markdown",
   "metadata": {},
   "source": [
    "You can see the boxplot of the distance to the goal the method has achieved on the data collected precedently."
   ]
  }
 ],
 "metadata": {
  "celltoolbar": "Raw Cell Format",
  "kernelspec": {
   "display_name": "Python 2",
   "language": "python",
   "name": "python2"
  },
  "language_info": {
   "codemirror_mode": {
    "name": "ipython",
    "version": 2
   },
   "file_extension": ".py",
   "mimetype": "text/x-python",
   "name": "python",
   "nbconvert_exporter": "python",
   "pygments_lexer": "ipython2",
   "version": "2.7.12"
  }
 },
 "nbformat": 4,
 "nbformat_minor": 2
}
